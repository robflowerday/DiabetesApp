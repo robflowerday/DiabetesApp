{
 "cells": [
  {
   "cell_type": "code",
   "execution_count": 1,
   "id": "825174ef",
   "metadata": {},
   "outputs": [],
   "source": [
    "import numpy as np\n",
    "import pandas as pd"
   ]
  },
  {
   "cell_type": "code",
   "execution_count": 2,
   "id": "c2c9306c",
   "metadata": {},
   "outputs": [],
   "source": [
    "# create ingredients dataframe for current meal\n",
    "ingredients = pd.DataFrame(columns=['Ingredient', 'Weight', 'Carbs per 100g'])"
   ]
  },
  {
   "cell_type": "code",
   "execution_count": 3,
   "id": "1e17fcf1",
   "metadata": {},
   "outputs": [
    {
     "data": {
      "text/html": [
       "<div>\n",
       "<style scoped>\n",
       "    .dataframe tbody tr th:only-of-type {\n",
       "        vertical-align: middle;\n",
       "    }\n",
       "\n",
       "    .dataframe tbody tr th {\n",
       "        vertical-align: top;\n",
       "    }\n",
       "\n",
       "    .dataframe thead th {\n",
       "        text-align: right;\n",
       "    }\n",
       "</style>\n",
       "<table border=\"1\" class=\"dataframe\">\n",
       "  <thead>\n",
       "    <tr style=\"text-align: right;\">\n",
       "      <th></th>\n",
       "      <th>Ingredient</th>\n",
       "      <th>Weight</th>\n",
       "      <th>Carbs per 100g</th>\n",
       "    </tr>\n",
       "  </thead>\n",
       "  <tbody>\n",
       "  </tbody>\n",
       "</table>\n",
       "</div>"
      ],
      "text/plain": [
       "Empty DataFrame\n",
       "Columns: [Ingredient, Weight, Carbs per 100g]\n",
       "Index: []"
      ]
     },
     "execution_count": 3,
     "metadata": {},
     "output_type": "execute_result"
    }
   ],
   "source": [
    "ingredients"
   ]
  },
  {
   "cell_type": "code",
   "execution_count": 4,
   "id": "5c46880f",
   "metadata": {},
   "outputs": [],
   "source": [
    "# collect variables from user input in web app\n",
    "ingredient = 'Carrot'\n",
    "ingredient_weight = 30  # grams"
   ]
  },
  {
   "cell_type": "code",
   "execution_count": 5,
   "id": "0949a8ea",
   "metadata": {},
   "outputs": [],
   "source": [
    "# collect carbs per 100g from database using ingredient name\n",
    "pct_carbs = 0.09  # grams"
   ]
  },
  {
   "cell_type": "code",
   "execution_count": 6,
   "id": "7be6de1e",
   "metadata": {},
   "outputs": [],
   "source": [
    "# calculate carbs in ingredient\n",
    "def ingredient_carbs(weight, pct_carbs):\n",
    "    return weight * pct_carbs"
   ]
  },
  {
   "cell_type": "code",
   "execution_count": 7,
   "id": "4b8c264d",
   "metadata": {},
   "outputs": [],
   "source": [
    "ingredient_carbs = ingredient_carbs(ingredient_weight, pct_carbs)"
   ]
  },
  {
   "cell_type": "code",
   "execution_count": 8,
   "id": "5246984a",
   "metadata": {},
   "outputs": [
    {
     "data": {
      "text/plain": [
       "2.6999999999999997"
      ]
     },
     "execution_count": 8,
     "metadata": {},
     "output_type": "execute_result"
    }
   ],
   "source": [
    "ingredient_carbs"
   ]
  },
  {
   "cell_type": "code",
   "execution_count": 9,
   "id": "0b6437dd",
   "metadata": {},
   "outputs": [],
   "source": [
    "# add a list to the bottom of a dataframe\n",
    "def add(dataframe, list_to_add):\n",
    "    dataframe.loc[len(dataframe.index)] = list_to_add"
   ]
  },
  {
   "cell_type": "code",
   "execution_count": 10,
   "id": "492767d3",
   "metadata": {},
   "outputs": [],
   "source": [
    "# add inputs to dataframe\n",
    "#ingredients.loc[len(ingredients.index)] = [ingredient, ingredient_weight, ingredient_carbs]"
   ]
  },
  {
   "cell_type": "code",
   "execution_count": 11,
   "id": "233bb3f5",
   "metadata": {},
   "outputs": [],
   "source": [
    "add(ingredients, [ingredient, ingredient_weight, ingredient_carbs])"
   ]
  },
  {
   "cell_type": "code",
   "execution_count": 12,
   "id": "83f49094",
   "metadata": {},
   "outputs": [],
   "source": [
    "# add the ingredient a few times\n",
    "for i in range(4):\n",
    "    add(ingredients, [ingredient, ingredient_weight, ingredient_carbs])"
   ]
  },
  {
   "cell_type": "code",
   "execution_count": 13,
   "id": "e9f76813",
   "metadata": {},
   "outputs": [
    {
     "data": {
      "text/html": [
       "<div>\n",
       "<style scoped>\n",
       "    .dataframe tbody tr th:only-of-type {\n",
       "        vertical-align: middle;\n",
       "    }\n",
       "\n",
       "    .dataframe tbody tr th {\n",
       "        vertical-align: top;\n",
       "    }\n",
       "\n",
       "    .dataframe thead th {\n",
       "        text-align: right;\n",
       "    }\n",
       "</style>\n",
       "<table border=\"1\" class=\"dataframe\">\n",
       "  <thead>\n",
       "    <tr style=\"text-align: right;\">\n",
       "      <th></th>\n",
       "      <th>Ingredient</th>\n",
       "      <th>Weight</th>\n",
       "      <th>Carbs per 100g</th>\n",
       "    </tr>\n",
       "  </thead>\n",
       "  <tbody>\n",
       "    <tr>\n",
       "      <th>0</th>\n",
       "      <td>Carrot</td>\n",
       "      <td>30</td>\n",
       "      <td>2.7</td>\n",
       "    </tr>\n",
       "    <tr>\n",
       "      <th>1</th>\n",
       "      <td>Carrot</td>\n",
       "      <td>30</td>\n",
       "      <td>2.7</td>\n",
       "    </tr>\n",
       "    <tr>\n",
       "      <th>2</th>\n",
       "      <td>Carrot</td>\n",
       "      <td>30</td>\n",
       "      <td>2.7</td>\n",
       "    </tr>\n",
       "    <tr>\n",
       "      <th>3</th>\n",
       "      <td>Carrot</td>\n",
       "      <td>30</td>\n",
       "      <td>2.7</td>\n",
       "    </tr>\n",
       "    <tr>\n",
       "      <th>4</th>\n",
       "      <td>Carrot</td>\n",
       "      <td>30</td>\n",
       "      <td>2.7</td>\n",
       "    </tr>\n",
       "  </tbody>\n",
       "</table>\n",
       "</div>"
      ],
      "text/plain": [
       "  Ingredient Weight  Carbs per 100g\n",
       "0     Carrot     30             2.7\n",
       "1     Carrot     30             2.7\n",
       "2     Carrot     30             2.7\n",
       "3     Carrot     30             2.7\n",
       "4     Carrot     30             2.7"
      ]
     },
     "execution_count": 13,
     "metadata": {},
     "output_type": "execute_result"
    }
   ],
   "source": [
    "ingredients"
   ]
  },
  {
   "cell_type": "code",
   "execution_count": 14,
   "id": "242a297a",
   "metadata": {},
   "outputs": [],
   "source": [
    "# remove an item from the dataframe - part 1\n",
    "# first get the index of a selected item\n",
    "index = 3"
   ]
  },
  {
   "cell_type": "code",
   "execution_count": 15,
   "id": "eef3fd40",
   "metadata": {},
   "outputs": [],
   "source": [
    "# remove an item from the dataframe - part 2\n",
    "ingredients = ingredients.drop(index)"
   ]
  },
  {
   "cell_type": "code",
   "execution_count": 16,
   "id": "584ea228",
   "metadata": {},
   "outputs": [
    {
     "data": {
      "text/html": [
       "<div>\n",
       "<style scoped>\n",
       "    .dataframe tbody tr th:only-of-type {\n",
       "        vertical-align: middle;\n",
       "    }\n",
       "\n",
       "    .dataframe tbody tr th {\n",
       "        vertical-align: top;\n",
       "    }\n",
       "\n",
       "    .dataframe thead th {\n",
       "        text-align: right;\n",
       "    }\n",
       "</style>\n",
       "<table border=\"1\" class=\"dataframe\">\n",
       "  <thead>\n",
       "    <tr style=\"text-align: right;\">\n",
       "      <th></th>\n",
       "      <th>Ingredient</th>\n",
       "      <th>Weight</th>\n",
       "      <th>Carbs per 100g</th>\n",
       "    </tr>\n",
       "  </thead>\n",
       "  <tbody>\n",
       "    <tr>\n",
       "      <th>0</th>\n",
       "      <td>Carrot</td>\n",
       "      <td>30</td>\n",
       "      <td>2.7</td>\n",
       "    </tr>\n",
       "    <tr>\n",
       "      <th>1</th>\n",
       "      <td>Carrot</td>\n",
       "      <td>30</td>\n",
       "      <td>2.7</td>\n",
       "    </tr>\n",
       "    <tr>\n",
       "      <th>2</th>\n",
       "      <td>Carrot</td>\n",
       "      <td>30</td>\n",
       "      <td>2.7</td>\n",
       "    </tr>\n",
       "    <tr>\n",
       "      <th>4</th>\n",
       "      <td>Carrot</td>\n",
       "      <td>30</td>\n",
       "      <td>2.7</td>\n",
       "    </tr>\n",
       "  </tbody>\n",
       "</table>\n",
       "</div>"
      ],
      "text/plain": [
       "  Ingredient Weight  Carbs per 100g\n",
       "0     Carrot     30             2.7\n",
       "1     Carrot     30             2.7\n",
       "2     Carrot     30             2.7\n",
       "4     Carrot     30             2.7"
      ]
     },
     "execution_count": 16,
     "metadata": {},
     "output_type": "execute_result"
    }
   ],
   "source": [
    "ingredients"
   ]
  },
  {
   "cell_type": "code",
   "execution_count": 17,
   "id": "4914f2de",
   "metadata": {},
   "outputs": [],
   "source": [
    "# determine carbs in meal\n",
    "meal_carbs = ingredients['Carbs per 100g'].sum()"
   ]
  },
  {
   "cell_type": "code",
   "execution_count": 18,
   "id": "4ad9c042",
   "metadata": {},
   "outputs": [
    {
     "data": {
      "text/plain": [
       "10.799999999999999"
      ]
     },
     "execution_count": 18,
     "metadata": {},
     "output_type": "execute_result"
    }
   ],
   "source": [
    "meal_carbs"
   ]
  },
  {
   "cell_type": "code",
   "execution_count": 19,
   "id": "91b582de",
   "metadata": {},
   "outputs": [],
   "source": [
    "# collect sensitivity from database\n",
    "# the increase in bm cause by 1g of carbs\n",
    "carb_sensitivity = 0.2\n",
    "# bm decrease caused by 1 unit of insulin\n",
    "insulin_sensitivity = 2"
   ]
  },
  {
   "cell_type": "code",
   "execution_count": 20,
   "id": "8ad79144",
   "metadata": {},
   "outputs": [],
   "source": [
    "# calculate insulin neccessary to counteract food\n",
    "food_dose = meal_carbs * carb_sensitivity / insulin_sensitivity"
   ]
  },
  {
   "cell_type": "code",
   "execution_count": 21,
   "id": "7a73d37a",
   "metadata": {},
   "outputs": [
    {
     "data": {
      "text/plain": [
       "1.0799999999999998"
      ]
     },
     "execution_count": 21,
     "metadata": {},
     "output_type": "execute_result"
    }
   ],
   "source": [
    "food_dose"
   ]
  },
  {
   "cell_type": "code",
   "execution_count": 22,
   "id": "44ca03ce",
   "metadata": {},
   "outputs": [],
   "source": [
    "# collect the current bm from user input\n",
    "current_bm = 10.3"
   ]
  },
  {
   "cell_type": "code",
   "execution_count": 23,
   "id": "614d38ec",
   "metadata": {},
   "outputs": [],
   "source": [
    "# collect the target bm fdrom database\n",
    "target_bm = 7"
   ]
  },
  {
   "cell_type": "code",
   "execution_count": 24,
   "id": "d1c23731",
   "metadata": {},
   "outputs": [],
   "source": [
    "# calculate correction dose\n",
    "correction_dose = (current_bm - target_bm) / insulin_sensitivity"
   ]
  },
  {
   "cell_type": "code",
   "execution_count": 25,
   "id": "cb660a35",
   "metadata": {},
   "outputs": [
    {
     "data": {
      "text/plain": [
       "1.6500000000000004"
      ]
     },
     "execution_count": 25,
     "metadata": {},
     "output_type": "execute_result"
    }
   ],
   "source": [
    "correction_dose"
   ]
  },
  {
   "cell_type": "code",
   "execution_count": 63,
   "id": "fb45f606",
   "metadata": {},
   "outputs": [],
   "source": [
    "# collect level of planned exercise from user web app input\n",
    "planned_exercise = 'none'\n",
    "#planned_exercise = 'little'\n",
    "#planned_exercise = 'moderate'\n",
    "#planned_exercise = 'strenuous'"
   ]
  },
  {
   "cell_type": "code",
   "execution_count": 64,
   "id": "339cc65b",
   "metadata": {},
   "outputs": [],
   "source": [
    "# determine insulin reduction due to exercise\n",
    "def exercise_reduction(planned_exercise):\n",
    "    if planned_exercise == 'none':\n",
    "        return 0\n",
    "    elif planned_exercise == 'little':\n",
    "        return 0.25\n",
    "    elif planned_exercise == 'moderate':\n",
    "        return 0.5\n",
    "    elif planned_exercise == 'strenuous':\n",
    "        return 0.75"
   ]
  },
  {
   "cell_type": "code",
   "execution_count": 65,
   "id": "d706ad78",
   "metadata": {},
   "outputs": [],
   "source": [
    "exercise_reduction = exercise_reduction(planned_exercise)"
   ]
  },
  {
   "cell_type": "code",
   "execution_count": 66,
   "id": "f32b9859",
   "metadata": {},
   "outputs": [
    {
     "data": {
      "text/plain": [
       "0"
      ]
     },
     "execution_count": 66,
     "metadata": {},
     "output_type": "execute_result"
    }
   ],
   "source": [
    "exercise_reduction"
   ]
  },
  {
   "cell_type": "code",
   "execution_count": 67,
   "id": "119b9b87",
   "metadata": {},
   "outputs": [],
   "source": [
    "# calculate ideal dose\n",
    "ideal_dose = (food_dose + correction_dose) * (1-exercise_reduction)"
   ]
  },
  {
   "cell_type": "code",
   "execution_count": 68,
   "id": "6228561a",
   "metadata": {},
   "outputs": [
    {
     "data": {
      "text/plain": [
       "2.7300000000000004"
      ]
     },
     "execution_count": 68,
     "metadata": {},
     "output_type": "execute_result"
    }
   ],
   "source": [
    "ideal_dose"
   ]
  },
  {
   "cell_type": "code",
   "execution_count": 69,
   "id": "7193a0d5",
   "metadata": {},
   "outputs": [],
   "source": [
    "# higher dose\n",
    "higher_dose = np.ceil(ideal_dose)"
   ]
  },
  {
   "cell_type": "code",
   "execution_count": 70,
   "id": "fd84c450",
   "metadata": {},
   "outputs": [
    {
     "data": {
      "text/plain": [
       "3.0"
      ]
     },
     "execution_count": 70,
     "metadata": {},
     "output_type": "execute_result"
    }
   ],
   "source": [
    "higher_dose"
   ]
  },
  {
   "cell_type": "code",
   "execution_count": 71,
   "id": "ab2b0348",
   "metadata": {},
   "outputs": [],
   "source": [
    "# calculate lower resultant bm caused by higher dose\n",
    "lower_resultant_bm = target_bm - (higher_dose - ideal_dose) * insulin_sensitivity"
   ]
  },
  {
   "cell_type": "code",
   "execution_count": 72,
   "id": "be131714",
   "metadata": {},
   "outputs": [
    {
     "data": {
      "text/plain": [
       "6.460000000000001"
      ]
     },
     "execution_count": 72,
     "metadata": {},
     "output_type": "execute_result"
    }
   ],
   "source": [
    "lower_resultant_bm"
   ]
  },
  {
   "cell_type": "code",
   "execution_count": 73,
   "id": "e3e23d61",
   "metadata": {},
   "outputs": [],
   "source": [
    "# lower dose\n",
    "lower_dose = np.floor(ideal_dose)"
   ]
  },
  {
   "cell_type": "code",
   "execution_count": 74,
   "id": "eedf1bea",
   "metadata": {},
   "outputs": [
    {
     "data": {
      "text/plain": [
       "2.0"
      ]
     },
     "execution_count": 74,
     "metadata": {},
     "output_type": "execute_result"
    }
   ],
   "source": [
    "lower_dose"
   ]
  },
  {
   "cell_type": "code",
   "execution_count": 75,
   "id": "4773606f",
   "metadata": {},
   "outputs": [],
   "source": [
    "# calculate higher resultant bm caused by lower dose\n",
    "higher_resultant_bm = target_bm + (ideal_dose - lower_dose) * insulin_sensitivity"
   ]
  },
  {
   "cell_type": "code",
   "execution_count": 76,
   "id": "5c3bd036",
   "metadata": {},
   "outputs": [
    {
     "data": {
      "text/plain": [
       "8.46"
      ]
     },
     "execution_count": 76,
     "metadata": {},
     "output_type": "execute_result"
    }
   ],
   "source": [
    "higher_resultant_bm"
   ]
  },
  {
   "cell_type": "code",
   "execution_count": 77,
   "id": "d8b1a880",
   "metadata": {},
   "outputs": [],
   "source": [
    "# determine which result should be highlighted as green or good because they are closer to the target bm\n",
    "green = 'low dose, high resultant sugar'\n",
    "if round(ideal_dose) == higher_dose:\n",
    "    green = ' high dose, low resultant sugar'"
   ]
  },
  {
   "cell_type": "code",
   "execution_count": 78,
   "id": "ad09d26e",
   "metadata": {},
   "outputs": [
    {
     "data": {
      "text/plain": [
       "' high dose, low resultant sugar'"
      ]
     },
     "execution_count": 78,
     "metadata": {},
     "output_type": "execute_result"
    }
   ],
   "source": [
    "green"
   ]
  }
 ],
 "metadata": {
  "kernelspec": {
   "display_name": "Python 3 (ipykernel)",
   "language": "python",
   "name": "python3"
  },
  "language_info": {
   "codemirror_mode": {
    "name": "ipython",
    "version": 3
   },
   "file_extension": ".py",
   "mimetype": "text/x-python",
   "name": "python",
   "nbconvert_exporter": "python",
   "pygments_lexer": "ipython3",
   "version": "3.8.7"
  }
 },
 "nbformat": 4,
 "nbformat_minor": 5
}
